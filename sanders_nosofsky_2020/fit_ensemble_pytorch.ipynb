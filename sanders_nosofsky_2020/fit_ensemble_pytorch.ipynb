{
 "cells": [
  {
   "cell_type": "markdown",
   "metadata": {},
   "source": [
    "Fit CNN in PyTorch\n",
    "===\n"
   ]
  },
  {
   "cell_type": "markdown",
   "metadata": {},
   "source": [
    "## Imports"
   ]
  },
  {
   "cell_type": "code",
   "execution_count": 2,
   "metadata": {
    "collapsed": false,
    "jupyter": {
     "outputs_hidden": false
    }
   },
   "outputs": [],
   "source": [
    "import torch\n",
    "import torch.nn as nn\n",
    "import torch.optim as optim\n",
    "from torch.utils.data import TensorDataset, DataLoader, Dataset\n",
    "from torchvision import datasets, models, transforms, utils\n",
    "import numpy as np\n",
    "import pandas as pd\n",
    "import matplotlib.pyplot as plt\n",
    "import time\n",
    "import os\n",
    "import copy\n",
    "from copy import deepcopy\n",
    "from sklearn.model_selection import train_test_split\n",
    "from sklearn.metrics import r2_score, mean_squared_error\n",
    "import cv2\n",
    "from skimage import io, transform\n",
    "from glob import glob\n",
    "\n",
    "\n",
    "device = 'cuda' if torch.cuda.is_available() else 'cpu'\n",
    "\n",
    "\n",
    "# number of models\n",
    "n_ensemble = 2\n",
    "\n",
    "# size of test and validation set\n",
    "n_test = 90\n",
    "\n",
    "# Number of dimensions in the dataset\n",
    "n_dim = 8\n",
    "\n",
    "# Batch size for training (change depending on how much memory you have)\n",
    "batch_size_im = 90\n",
    "batch_size_ft = 30\n",
    "\n",
    "# Number of epochs to train for \n",
    "num_epochs_im = 10\n",
    "num_epochs_ft = 10\n",
    "\n",
    "# where would we use these in pytorch? in keras they are used to create layers for the intermediate model\n",
    "dropout = 0.5   \n",
    "n_dense = 256\n",
    "n_layers = 2\n",
    "\n",
    "# Flag for feature extracting. When False, we finetune the whole model, \n",
    "#   when True we only update the reshaped layer params\n",
    "feature_extract_im = True\n",
    "feature_extract_ft = False\n",
    "\n",
    "input_size = 224\n",
    "\n",
    "loglr = -2.2200654426745987\n",
    "lr_im = 1 * 10 ** loglr\n",
    "lr_ft = 0.0001\n",
    "\n",
    "IMG_360 = '../sanders_2018/360 Rocks/'\n",
    "IMG_120 = '../sanders_2018/120 Rocks/'\n",
    "MDS_360 = '../finetuning_torchvision_data/mds_360.csv'\n",
    "CHECKPOINTS = 'CNN_checkpoints/'\n",
    "PATH_IM = CHECKPOINTS + 'state_dict_intermediate_model.pt'\n",
    "PATH_FT = CHECKPOINTS + 'state_dict_finetuned_model.pt'"
   ]
  },
  {
   "cell_type": "markdown",
   "metadata": {},
   "source": [
    "## Functions and classes"
   ]
  },
  {
   "cell_type": "code",
   "execution_count": 3,
   "metadata": {
    "collapsed": false,
    "jupyter": {
     "outputs_hidden": false
    }
   },
   "outputs": [],
   "source": [
    "def train_model(model, dataloaders, criterion, optimizer, num_epochs=14, is_inception=False):\n",
    "    \"\"\"\n",
    "    handles the training and validation of a given model. At the end of\n",
    "    training returns the best performing model. After each epoch, the training and validation\n",
    "    accuracies are printed\n",
    "    \"\"\"\n",
    "    \n",
    "    since = time.time()\n",
    "\n",
    "    val_acc_history = []\n",
    "    lrs = []\n",
    "    \n",
    "    best_model_wts = copy.deepcopy(model.state_dict())\n",
    "    best_acc = None\n",
    "    \n",
    "    for epoch in range(num_epochs):\n",
    "        print(f'Epoch {epoch + 1}/{num_epochs}')\n",
    "        print('-' * 10)\n",
    "\n",
    "        # Each epoch has a training and validation phase\n",
    "        for phase in ['train', 'val']:\n",
    "            if phase == 'train':\n",
    "                model.train()  # Set model to training mode\n",
    "            else:\n",
    "                model.eval()   # Set model to evaluate mode\n",
    "\n",
    "            running_loss = 0.0\n",
    "            running_r2 = 0.0\n",
    "\n",
    "            # Iterate over data.\n",
    "            for inputs, labels in dataloaders[phase]:\n",
    "                inputs = inputs.to(device)\n",
    "                labels = labels.to(device)\n",
    "\n",
    "                # zero the parameter gradients\n",
    "                optimizer.zero_grad()\n",
    "\n",
    "                # forward\n",
    "                # track history if only in train\n",
    "                with torch.set_grad_enabled(phase == 'train'):\n",
    "                    outputs = model(inputs)\n",
    "                    loss = criterion(outputs, labels)\n",
    "                    score = r2_score(labels.detach().numpy(), outputs.detach().numpy())\n",
    "\n",
    "                    # backward + optimize only if in training phase\n",
    "                    if phase == 'train':\n",
    "                        loss.backward()\n",
    "                        optimizer.step()\n",
    "                        lr = optimizer.param_groups[0][\"lr\"]\n",
    "                        lrs.append(lr)\n",
    "\n",
    "                # statistics \n",
    "                running_loss += loss.item() * inputs.size(0)\n",
    "                running_r2 += score.item() * inputs.size(0)\n",
    "                \n",
    "            epoch_loss = running_loss / len(dataloaders[phase].dataset) \n",
    "            epoch_acc = running_r2 / len(dataloaders[phase].dataset) \n",
    "\n",
    "            print(f'{phase} Loss: {epoch_loss: .4f} Acc: {epoch_acc: .4f} lr: {lr: .4e}')\n",
    "\n",
    "            # deep copy the model\n",
    "            if phase == 'val' and best_acc == None:\n",
    "                best_acc = epoch_acc\n",
    "                best_model_wts = copy.deepcopy(model.state_dict())\n",
    "            if phase == 'val' and best_acc < epoch_acc:\n",
    "                best_acc = epoch_acc\n",
    "                best_model_wts = copy.deepcopy(model.state_dict())\n",
    "            if phase == 'val':\n",
    "                val_acc_history.append(epoch_acc)\n",
    "        \n",
    "        print() # empty line between epochs\n",
    "\n",
    "    time_elapsed = time.time() - since\n",
    "    print('Training complete in {:.0f}m {:.0f}s'.format(time_elapsed // 60, time_elapsed % 60))\n",
    "    print('Best val Acc: {:4f}'.format(best_acc))\n",
    "\n",
    "    # load best model weights\n",
    "    model.load_state_dict(best_model_wts)\n",
    "    return model, val_acc_history, lrs\n",
    "\n",
    "\n",
    "def set_parameter_requires_grad(model, feature_extracting):\n",
    "    \"\"\"\n",
    "    This helper function sets the ``.requires_grad`` attribute of the\n",
    "    parameters in the model to False when we are feature extracting.\n",
    "    \"\"\"\n",
    "    if feature_extracting:\n",
    "        for param in model.parameters():\n",
    "            param.requires_grad = False\n",
    "    else:\n",
    "        for param in model.parameters():\n",
    "            param.requires_grad = True\n",
    "    return None\n",
    "\n",
    "\n",
    "class RocksData(datasets.VisionDataset):\n",
    "    def __init__(self, df, root_dir):\n",
    "        super(RocksData).__init__()\n",
    "        self.df = df\n",
    "        self.normalize = transforms.Normalize(mean=[0.485, 0.456, 0.406],\n",
    "                                             std=[0.229, 0.224, 0.225])\n",
    "        self.root_dir = root_dir\n",
    "    def __len__(self): return len(self.df)\n",
    "    def __getitem__(self, ix):\n",
    "        img_path = self.root_dir + \"/\" + self.df.iloc[ix,0]\n",
    "        img = cv2.imread(img_path)/255.\n",
    "        label = deepcopy(self.df.iloc[ix,1:].tolist())\n",
    "        label = torch.tensor(label).float()\n",
    "        img = self.preprocess_input(img)\n",
    "        return img, label\n",
    "    def preprocess_input(self, img):\n",
    "        img = cv2.resize(img, (224,224))\n",
    "        img = torch.tensor(img).permute(2,0,1)\n",
    "        img = self.normalize(img).float()\n",
    "        return img.to(device)    \n",
    "\n",
    "    \n",
    "class PredictionData(datasets.VisionDataset): # TODO: lots of redundant code. integrate this into above RocksData dataset\n",
    "    def __init__(self, img_paths):\n",
    "        super(PredictionData).__init__()\n",
    "        self.normalize = transforms.Normalize(mean=[0.485, 0.456, 0.406],\n",
    "                                             std=[0.229, 0.224, 0.225])\n",
    "        self.img_paths = img_paths\n",
    "    def __len__(self): return len(self.img_paths)\n",
    "    def __getitem__(self, ix):\n",
    "        img = cv2.imread(self.img_paths[ix])/255.\n",
    "        img = self.preprocess_input(img)\n",
    "        return img\n",
    "    def preprocess_input(self, img):\n",
    "        img = cv2.resize(img, (224,224))\n",
    "        img = torch.tensor(img).permute(2,0,1)\n",
    "        img = self.normalize(img).float()\n",
    "        return img.to(device) \n",
    "    \n",
    "    \n",
    "def get_criterion(loss_name):\n",
    "    \"\"\"\n",
    "    Returns the optimizer\n",
    "    \"\"\"\n",
    "    if loss_name == \"L1\":\n",
    "        return torch.nn.L1Loss()\n",
    "    elif loss_name == \"L2\":\n",
    "        return torch.nn.MSELoss()\n",
    "    elif loss_name == \"smooth_L1\":\n",
    "        return torch.nn.SmoothL1Loss()\n",
    "    elif loss_name == \"huber\":\n",
    "        return torch.nn.HuberLoss()\n",
    "    else:\n",
    "        raise Exception(\"No valid loss_name entered!\")"
   ]
  },
  {
   "cell_type": "raw",
   "metadata": {},
   "source": [
    "# TODO: add a key for training loop and use it there as well\n",
    "\n",
    "# maybe we can just use 1 dataset class instead of 2 for training and for inference\n",
    "\n",
    "data_transforms = {\n",
    "    'predict':transforms.Compose([\n",
    "        transforms.ToPILImage(),\n",
    "        transforms.Resize(input_size),\n",
    "        transforms.CenterCrop(input_size),\n",
    "        transforms.ToTensor(),\n",
    "        transforms.Normalize([0.485, 0.456, 0.406], [0.229, 0.224, 0.225])])}\n",
    "\n",
    "# TODO also try out different kinds of transforms such as the ones listed here\n",
    "\n",
    "data_transforms = {\n",
    "    'predict': transforms.Compose([\n",
    "        transforms.RandomResizedCrop(224),\n",
    "        transforms.RandomHorizontalFlip(),\n",
    "        transforms.ToTensor(),\n",
    "        transforms.Normalize([0.485, 0.456, 0.406], [0.229, 0.224, 0.225])\n",
    "    ])\n",
    "    }\n",
    "    \n",
    "    data_transforms = transforms.Compose([\n",
    "        transforms.ToPILImage(),\n",
    "        transforms.Resize(input_size),\n",
    "        transforms.CenterCrop(input_size),\n",
    "        transforms.ToTensor(),\n",
    "        transforms.Normalize([0.485, 0.456, 0.406], [0.229, 0.224, 0.225])])"
   ]
  },
  {
   "cell_type": "markdown",
   "metadata": {},
   "source": [
    "## Prepare Data"
   ]
  },
  {
   "cell_type": "markdown",
   "metadata": {},
   "source": [
    "<div class=\"alert alert-warning\" role=\"alert\">Note: Stratified split still to be implemented!</div>"
   ]
  },
  {
   "cell_type": "code",
   "execution_count": 4,
   "metadata": {},
   "outputs": [],
   "source": [
    "df = pd.read_csv(MDS_360)\n",
    "\n",
    "train, test = train_test_split(df, test_size=n_test, random_state=0)\n",
    "train, val = train_test_split(train, test_size=n_test, random_state=0)\n",
    "train_dataset = RocksData(train.reset_index(drop=True), IMG_360)\n",
    "val_dataset = RocksData(val.reset_index(drop=True), IMG_360)\n",
    "test_dataset = RocksData(test.reset_index(drop=True), IMG_360)\n",
    "pred_dataset = PredictionData(glob(IMG_120+'*.jpg'))"
   ]
  },
  {
   "cell_type": "markdown",
   "metadata": {},
   "source": [
    "## Adapt model"
   ]
  },
  {
   "cell_type": "markdown",
   "metadata": {},
   "source": [
    "This is how the final layers look like in Keras:\n",
    "\n",
    "```\n",
    "__________________________________________________________________________________________________\n",
    " Layer (type)                   Output Shape         Param #     Connected to                     \n",
    "==================================================================================================\n",
    "\n",
    "avg_pool (GlobalAveragePooling  (None, 2048)        0           ['conv5_block3_out[0][0]']       \n",
    " 2D)                                                                                              \n",
    "                                                                                                  \n",
    " dropout (Dropout)              (None, 2048)         0           ['avg_pool[0][0]']               \n",
    "                                                                                                  \n",
    " dense (Dense)                  (None, 256)          524544      ['dropout[0][0]']                \n",
    "                                                                                                  \n",
    " batch_normalization (BatchNorm  (None, 256)         1024        ['dense[0][0]']                  \n",
    " alization)                                                                                       \n",
    "                                                                                                  \n",
    " dropout_1 (Dropout)            (None, 256)          0           ['batch_normalization[0][0]']    \n",
    "                                                                                                  \n",
    " dense_1 (Dense)                (None, 256)          65792       ['dropout_1[0][0]']              \n",
    "                                                                                                  \n",
    " batch_normalization_1 (BatchNo  (None, 256)         1024        ['dense_1[0][0]']                \n",
    " rmalization)                                                                                     \n",
    "                                                                                                  \n",
    " dropout_2 (Dropout)            (None, 256)          0           ['batch_normalization_1[0][0]']  \n",
    "                                                                                                  \n",
    " dense_2 (Dense)                (None, 8)            2056        ['dropout_2[0][0]']       \n",
    "```"
   ]
  },
  {
   "cell_type": "code",
   "execution_count": 5,
   "metadata": {},
   "outputs": [],
   "source": [
    "def get_output_layers(dropout, num_ftrs, n_dim, n_layers):\n",
    "    \"\"\"\n",
    "    Returns the output layers.\n",
    "    \"\"\"\n",
    "   \n",
    "    output = nn.Sequential(\n",
    "            nn.Dropout(p=dropout),\n",
    "            nn.Linear(num_ftrs, n_dense), # Dense layer in keras\n",
    "            nn.ReLU(inplace=True), # Dense\n",
    "            nn.BatchNorm1d(n_dense),\n",
    "            nn.Dropout(p=dropout),\n",
    "            nn.Linear(n_dense, n_dense), # Dense\n",
    "            nn.ReLU(inplace=True), # Dense\n",
    "            nn.BatchNorm1d(n_dense),\n",
    "            nn.Dropout(p=dropout),\n",
    "            nn.Linear(n_dense, n_dim) # Dense\n",
    "        )\n",
    "    \n",
    "    return output"
   ]
  },
  {
   "cell_type": "markdown",
   "metadata": {},
   "source": [
    "## Train ensemble"
   ]
  },
  {
   "cell_type": "code",
   "execution_count": 6,
   "metadata": {},
   "outputs": [
    {
     "name": "stdout",
     "output_type": "stream",
     "text": [
      "Epoch 1/10\n",
      "----------\n",
      "train Loss:  6.8460 Acc: -0.0358 lr:  7.2296e-03\n",
      "val Loss:  6.8641 Acc: -0.0718 lr:  7.2296e-03\n",
      "\n",
      "Epoch 2/10\n",
      "----------\n",
      "train Loss:  4.7870 Acc:  0.2556 lr:  7.2296e-03\n",
      "val Loss:  7.9191 Acc: -0.2764 lr:  7.2296e-03\n",
      "\n",
      "Epoch 3/10\n",
      "----------\n",
      "train Loss:  3.9192 Acc:  0.3736 lr:  7.2296e-03\n",
      "val Loss:  8.6120 Acc: -0.5411 lr:  7.2296e-03\n",
      "\n",
      "Epoch 4/10\n",
      "----------\n",
      "train Loss:  3.4165 Acc:  0.4533 lr:  7.2296e-03\n",
      "val Loss:  7.6420 Acc: -0.3925 lr:  7.2296e-03\n",
      "\n",
      "Epoch 5/10\n",
      "----------\n",
      "train Loss:  3.1104 Acc:  0.4999 lr:  7.2296e-03\n",
      "val Loss:  5.9613 Acc: -0.0307 lr:  7.2296e-03\n",
      "\n",
      "Epoch 6/10\n",
      "----------\n",
      "train Loss:  3.0285 Acc:  0.5170 lr:  7.2296e-03\n",
      "val Loss:  4.5525 Acc:  0.2160 lr:  7.2296e-03\n",
      "\n",
      "Epoch 7/10\n",
      "----------\n",
      "train Loss:  2.8653 Acc:  0.5326 lr:  7.2296e-03\n",
      "val Loss:  3.9845 Acc:  0.2998 lr:  7.2296e-03\n",
      "\n",
      "Epoch 8/10\n",
      "----------\n",
      "train Loss:  2.5778 Acc:  0.5827 lr:  7.2296e-03\n",
      "val Loss:  4.0153 Acc:  0.2902 lr:  7.2296e-03\n",
      "\n",
      "Epoch 9/10\n",
      "----------\n",
      "train Loss:  2.6425 Acc:  0.5775 lr:  7.2296e-03\n",
      "val Loss:  3.7525 Acc:  0.3311 lr:  7.2296e-03\n",
      "\n",
      "Epoch 10/10\n",
      "----------\n",
      "train Loss:  2.4248 Acc:  0.6192 lr:  7.2296e-03\n",
      "val Loss:  3.3532 Acc:  0.4044 lr:  7.2296e-03\n",
      "\n",
      "Training complete in 5m 44s\n",
      "Best val Acc: 0.404370\n"
     ]
    },
    {
     "data": {
      "image/png": "[encoded data removed]",
      "text/plain": [
       "<Figure size 432x288 with 1 Axes>"
      ]
     },
     "metadata": {
      "needs_background": "light"
     },
     "output_type": "display_data"
    },
    {
     "name": "stdout",
     "output_type": "stream",
     "text": [
      "Epoch 1/10\n",
      "----------\n",
      "train Loss:  2.4566 Acc:  0.5908 lr:  1.0000e-05\n",
      "val Loss:  2.7104 Acc:  0.5165 lr:  1.0000e-05\n",
      "\n",
      "Epoch 2/10\n",
      "----------\n",
      "train Loss:  2.7337 Acc:  0.5464 lr:  1.0000e-05\n",
      "val Loss:  2.5647 Acc:  0.5461 lr:  1.0000e-05\n",
      "\n",
      "Epoch 3/10\n",
      "----------\n",
      "train Loss:  2.5376 Acc:  0.5736 lr:  1.0000e-05\n",
      "val Loss:  2.5345 Acc:  0.5525 lr:  1.0000e-05\n",
      "\n",
      "Epoch 4/10\n",
      "----------\n",
      "train Loss:  2.4614 Acc:  0.5863 lr:  1.0000e-05\n",
      "val Loss:  2.5420 Acc:  0.5520 lr:  1.0000e-05\n",
      "\n",
      "Epoch 5/10\n",
      "----------\n",
      "train Loss:  2.5387 Acc:  0.5664 lr:  1.0000e-05\n",
      "val Loss:  2.5276 Acc:  0.5560 lr:  1.0000e-05\n",
      "\n",
      "Epoch 6/10\n",
      "----------\n",
      "train Loss:  2.6876 Acc:  0.5542 lr:  1.0000e-05\n",
      "val Loss:  2.5413 Acc:  0.5550 lr:  1.0000e-05\n",
      "\n",
      "Epoch 7/10\n",
      "----------\n",
      "train Loss:  2.5644 Acc:  0.5700 lr:  1.0000e-05\n",
      "val Loss:  2.5243 Acc:  0.5568 lr:  1.0000e-05\n",
      "\n",
      "Epoch 8/10\n",
      "----------\n",
      "train Loss:  2.5529 Acc:  0.5785 lr:  1.0000e-05\n",
      "val Loss:  2.5238 Acc:  0.5568 lr:  1.0000e-05\n",
      "\n",
      "Epoch 9/10\n",
      "----------\n",
      "train Loss:  2.5722 Acc:  0.5610 lr:  1.0000e-05\n",
      "val Loss:  2.5220 Acc:  0.5571 lr:  1.0000e-05\n",
      "\n",
      "Epoch 10/10\n",
      "----------\n",
      "train Loss:  2.5182 Acc:  0.5763 lr:  1.0000e-05\n",
      "val Loss:  2.5346 Acc:  0.5552 lr:  1.0000e-05\n",
      "\n",
      "Training complete in 5m 28s\n",
      "Best val Acc: 0.557137\n"
     ]
    },
    {
     "data": {
      "image/png": "[encoded data removed]",
      "text/plain": [
       "<Figure size 432x288 with 1 Axes>"
      ]
     },
     "metadata": {
      "needs_background": "light"
     },
     "output_type": "display_data"
    },
    {
     "name": "stdout",
     "output_type": "stream",
     "text": [
      "Epoch 1/10\n",
      "----------\n",
      "train Loss:  7.1838 Acc: -0.0949 lr:  7.2296e-03\n",
      "val Loss:  6.7714 Acc: -0.0663 lr:  7.2296e-03\n",
      "\n",
      "Epoch 2/10\n",
      "----------\n",
      "train Loss:  4.9358 Acc:  0.2355 lr:  7.2296e-03\n",
      "val Loss:  7.9916 Acc: -0.2434 lr:  7.2296e-03\n",
      "\n",
      "Epoch 3/10\n",
      "----------\n",
      "train Loss:  3.8734 Acc:  0.3850 lr:  7.2296e-03\n",
      "val Loss:  6.9957 Acc: -0.1525 lr:  7.2296e-03\n",
      "\n",
      "Epoch 4/10\n",
      "----------\n",
      "train Loss:  3.4995 Acc:  0.4433 lr:  7.2296e-03\n",
      "val Loss:  6.4728 Acc: -0.1197 lr:  7.2296e-03\n",
      "\n",
      "Epoch 5/10\n",
      "----------\n",
      "train Loss:  3.1938 Acc:  0.4859 lr:  7.2296e-03\n",
      "val Loss:  5.4170 Acc:  0.0549 lr:  7.2296e-03\n",
      "\n",
      "Epoch 6/10\n",
      "----------\n",
      "train Loss:  2.8270 Acc:  0.5351 lr:  7.2296e-03\n",
      "val Loss:  4.3089 Acc:  0.2694 lr:  7.2296e-03\n",
      "\n",
      "Epoch 7/10\n",
      "----------\n",
      "train Loss:  2.8504 Acc:  0.5439 lr:  7.2296e-03\n",
      "val Loss:  3.7936 Acc:  0.3719 lr:  7.2296e-03\n",
      "\n",
      "Epoch 8/10\n",
      "----------\n",
      "train Loss:  2.7203 Acc:  0.5625 lr:  7.2296e-03\n",
      "val Loss:  3.5012 Acc:  0.4183 lr:  7.2296e-03\n",
      "\n",
      "Epoch 9/10\n",
      "----------\n",
      "train Loss:  2.5699 Acc:  0.5929 lr:  7.2296e-03\n",
      "val Loss:  3.2233 Acc:  0.4562 lr:  7.2296e-03\n",
      "\n",
      "Epoch 10/10\n",
      "----------\n",
      "train Loss:  2.6297 Acc:  0.5819 lr:  7.2296e-03\n",
      "val Loss:  2.9724 Acc:  0.4927 lr:  7.2296e-03\n",
      "\n",
      "Training complete in 5m 45s\n",
      "Best val Acc: 0.492700\n"
     ]
    },
    {
     "data": {
      "image/png": "[encoded data removed]",
      "text/plain": [
       "<Figure size 432x288 with 1 Axes>"
      ]
     },
     "metadata": {
      "needs_background": "light"
     },
     "output_type": "display_data"
    },
    {
     "name": "stdout",
     "output_type": "stream",
     "text": [
      "Epoch 1/10\n",
      "----------\n",
      "train Loss:  2.5456 Acc:  0.5785 lr:  1.0000e-05\n",
      "val Loss:  2.5395 Acc:  0.5489 lr:  1.0000e-05\n",
      "\n",
      "Epoch 2/10\n",
      "----------\n",
      "train Loss:  2.6014 Acc:  0.5609 lr:  1.0000e-05\n",
      "val Loss:  2.4644 Acc:  0.5622 lr:  1.0000e-05\n",
      "\n",
      "Epoch 3/10\n",
      "----------\n",
      "train Loss:  2.5199 Acc:  0.5779 lr:  1.0000e-05\n",
      "val Loss:  2.4658 Acc:  0.5635 lr:  1.0000e-05\n",
      "\n",
      "Epoch 4/10\n",
      "----------\n",
      "train Loss:  2.6512 Acc:  0.5569 lr:  1.0000e-05\n",
      "val Loss:  2.4775 Acc:  0.5622 lr:  1.0000e-05\n",
      "\n",
      "Epoch 5/10\n",
      "----------\n",
      "train Loss:  2.5767 Acc:  0.5627 lr:  1.0000e-05\n",
      "val Loss:  2.4727 Acc:  0.5622 lr:  1.0000e-05\n",
      "\n",
      "Epoch 6/10\n",
      "----------\n",
      "train Loss:  2.6283 Acc:  0.5620 lr:  1.0000e-05\n",
      "val Loss:  2.4965 Acc:  0.5584 lr:  1.0000e-05\n",
      "\n",
      "Epoch 7/10\n",
      "----------\n",
      "train Loss:  2.5025 Acc:  0.5731 lr:  1.0000e-05\n",
      "val Loss:  2.5080 Acc:  0.5563 lr:  1.0000e-05\n",
      "\n",
      "Epoch 8/10\n",
      "----------\n",
      "train Loss:  2.4576 Acc:  0.5912 lr:  1.0000e-05\n",
      "val Loss:  2.5095 Acc:  0.5558 lr:  1.0000e-05\n",
      "\n",
      "Epoch 9/10\n",
      "----------\n",
      "train Loss:  2.5750 Acc:  0.5596 lr:  1.0000e-05\n",
      "val Loss:  2.5065 Acc:  0.5564 lr:  1.0000e-05\n",
      "\n",
      "Epoch 10/10\n",
      "----------\n",
      "train Loss:  2.5046 Acc:  0.5717 lr:  1.0000e-05\n",
      "val Loss:  2.5038 Acc:  0.5568 lr:  1.0000e-05\n",
      "\n",
      "Training complete in 5m 37s\n",
      "Best val Acc: 0.563458\n"
     ]
    },
    {
     "data": {
      "image/png": "[encoded data removed]",
      "text/plain": [
       "<Figure size 432x288 with 1 Axes>"
      ]
     },
     "metadata": {
      "needs_background": "light"
     },
     "output_type": "display_data"
    }
   ],
   "source": [
    "for e in range(1, n_ensemble + 1):\n",
    "       \n",
    "    # Intermediate model\n",
    "    model = models.resnet50(pretrained=True)\n",
    "    set_parameter_requires_grad(model, feature_extract_im)\n",
    "    num_ftrs = model.fc.in_features\n",
    "    new_layers = get_output_layers(dropout, num_ftrs, n_dim, n_layers)\n",
    "    model.fc = new_layers # last fully connected layer\n",
    "    \n",
    "    # Send the model to GPU\n",
    "    model = model.to(device)\n",
    "    \n",
    "    # create datalaoders with specific batch size\n",
    "    train_loader = DataLoader(train_dataset, batch_size=batch_size_im)\n",
    "    val_loader = DataLoader(val_dataset, batch_size=batch_size_im)\n",
    "    dataloaders_dict = {\"train\":train_loader,\"val\":val_loader}\n",
    "    \n",
    "    # Create Optimizer and define params to update\n",
    "    params_to_update = model.parameters()\n",
    "    if feature_extract_im:\n",
    "        params_to_update = []\n",
    "        for name,param in model.named_parameters():\n",
    "            if param.requires_grad == True:\n",
    "                params_to_update.append(param)\n",
    "                #print(\"\\t\",name)\n",
    "\n",
    "    else:\n",
    "        for name,param in model.named_parameters():\n",
    "            if param.requires_grad == True:\n",
    "                #print(\"\\t\",name)\n",
    "                ...\n",
    "\n",
    "\n",
    "    # Instantiate optimizer for intermediate model\n",
    "    optimizer = optim.Adam(params_to_update, lr = lr_im)\n",
    "    \n",
    "    # Setup the loss fxn\n",
    "    criterion = get_criterion('L2')\n",
    "    \n",
    "    # Initial training and evaluate\n",
    "    model, hist, lrs = train_model(model, dataloaders_dict, criterion, optimizer, num_epochs = num_epochs_im)\n",
    "    \n",
    "    # Plot learning curve\n",
    "    plt.plot(hist)\n",
    "    plt.title(f'Intermediate model {e}')\n",
    "    plt.show()\n",
    "    \n",
    "    # Save intermediate model\n",
    "    torch.save(model.state_dict(), PATH_IM)\n",
    "\n",
    "    # fine tuning\n",
    "    \n",
    "    # create datalaoders with specific batch size\n",
    "    train_loader = DataLoader(train_dataset, batch_size=batch_size_ft)\n",
    "    val_loader = DataLoader(val_dataset, batch_size=batch_size_ft)\n",
    "    dataloaders_dict = {\"train\":train_loader,\"val\":val_loader}\n",
    "            \n",
    "    # Create Optimizer and define params to update\n",
    "    params_to_update = model.parameters()\n",
    "    if feature_extract_ft:\n",
    "        params_to_update = []\n",
    "        for name,param in model.named_parameters():\n",
    "            if param.requires_grad == True:\n",
    "                params_to_update.append(param)\n",
    "                #print(\"\\t\",name)\n",
    "    else:\n",
    "        for name,param in model.named_parameters():\n",
    "            if param.requires_grad == True:\n",
    "                #print(\"\\t\",name)\n",
    "                ...\n",
    "\n",
    "    # Instantiate optimizer for finetuning\n",
    "    optimizer = optim.SGD(params_to_update, lr = lr_ft, momentum = 0.9)\n",
    "    \n",
    "    # Setup the loss fxn\n",
    "    criterion = get_criterion(\"L2\")\n",
    "\n",
    "    # Train and evaluate fine tuned model\n",
    "    model, hist, lrs = train_model(model, dataloaders_dict, criterion, optimizer, num_epochs = num_epochs_ft)\n",
    "    \n",
    "    # Plot learning curve\n",
    "    plt.plot(hist)\n",
    "    plt.title(f'Ensemble model {e}')\n",
    "    plt.show()\n",
    "    \n",
    "    # Save intermediate model\n",
    "    PATH_EN = f'CNN_checkpoints/state_dict_ensemble_model_{e}.pt'\n",
    "    torch.save(model.state_dict(), PATH_EN)"
   ]
  },
  {
   "cell_type": "markdown",
   "metadata": {},
   "source": [
    "## Load checkpoints and get predictions for validation and test sets"
   ]
  },
  {
   "cell_type": "code",
   "execution_count": 7,
   "metadata": {},
   "outputs": [],
   "source": [
    "def load_pretrained_model(e):\n",
    "\n",
    "    # Load intermediate model for finetuning\n",
    "    model = models.resnet50(pretrained=True)\n",
    "    set_parameter_requires_grad(model, feature_extract_ft)\n",
    "    num_ftrs = model.fc.in_features\n",
    "    new_layers = get_output_layers(dropout, num_ftrs, n_dim, n_layers)\n",
    "    model.fc = new_layers # last fully connected layer\n",
    "\n",
    "    # OPTIONAL: Load pre-trained state\n",
    "    checkpoint = torch.load(CHECKPOINTS + f'state_dict_ensemble_model_{e+1}.pt')\n",
    "    model.load_state_dict(checkpoint)\n",
    "\n",
    "    # Send the model to GPU\n",
    "    return model.to(device)\n",
    "\n",
    "\n",
    "def predict(model, data_loader, unlabeled=False):\n",
    "    \"\"\"Computes predictions for a given mnodel and dataset\"\"\"\n",
    "    \n",
    "    model.eval()\n",
    "\n",
    "    outputs = list()\n",
    "    since = time.time()\n",
    "    with torch.no_grad():\n",
    "        if unlabeled:\n",
    "            for inputs in data_loader:\n",
    "                inputs = inputs.to(device)\n",
    "                output = model(inputs)\n",
    "                outputs.append(output.squeeze().numpy())\n",
    "        else:\n",
    "            for inputs, _ in data_loader:\n",
    "                inputs = inputs.to(device)\n",
    "                output = model(inputs)\n",
    "                outputs.append(output.squeeze().numpy())\n",
    "\n",
    "    return np.array(outputs)"
   ]
  },
  {
   "cell_type": "markdown",
   "metadata": {},
   "source": [
    "### Create dataloaders for inference"
   ]
  },
  {
   "cell_type": "code",
   "execution_count": 8,
   "metadata": {},
   "outputs": [],
   "source": [
    "pred_loader = DataLoader(pred_dataset, batch_size=1, shuffle=False, num_workers=0)\n",
    "test_loader = DataLoader(test_dataset, batch_size=1, shuffle=False, num_workers=0)"
   ]
  },
  {
   "cell_type": "markdown",
   "metadata": {},
   "source": [
    "### Run ensemble models (CNNs) ...\n",
    "... to collect their individual predictions"
   ]
  },
  {
   "cell_type": "code",
   "execution_count": 9,
   "metadata": {},
   "outputs": [],
   "source": [
    "test_pred = []\n",
    "rocks_120_pred = []\n",
    "\n",
    "for e in range(n_ensemble):\n",
    "    model = load_pretrained_model(e)\n",
    "    test_pred.append(predict(model, test_loader))\n",
    "    rocks_120_pred.append(predict(model, pred_loader, unlabeled=True))\n",
    "    \n",
    "test_pred = np.array(test_pred)\n",
    "\n",
    "# OPTIONAL: may later be replaced by predictions of an optimized stacked ensemble\n",
    "rocks_120_pred = np.array(rocks_120_pred)"
   ]
  },
  {
   "cell_type": "markdown",
   "metadata": {},
   "source": [
    "### Run meta learner (LinearRegression, ElasticNet or similar) ...\n",
    "... to find optimally weighted mean of CNN predictions.\n",
    "\n",
    "$Y_{pred} =  b_0 + b_1 Y_{pred_1} + b_2 Y_{pred_2}$\n",
    "\n",
    "But first we start simple ..."
   ]
  },
  {
   "cell_type": "raw",
   "metadata": {},
   "source": [
    "# from sklearn.linear_model import LinearRegression"
   ]
  },
  {
   "cell_type": "code",
   "execution_count": 281,
   "metadata": {},
   "outputs": [],
   "source": [
    "Y_test = test.iloc[:,1:].values"
   ]
  },
  {
   "cell_type": "markdown",
   "metadata": {},
   "source": [
    "#### Check model predictions separately"
   ]
  },
  {
   "cell_type": "code",
   "execution_count": 329,
   "metadata": {},
   "outputs": [
    {
     "data": {
      "image/png": "[encoded data removed]",
      "text/plain": [
       "<Figure size 720x360 with 2 Axes>"
      ]
     },
     "metadata": {
      "needs_background": "light"
     },
     "output_type": "display_data"
    }
   ],
   "source": [
    "d_i = 2 # Dimension\n",
    "\n",
    "fig, axs = plt.subplots(1,2, figsize=(10,5))\n",
    "\n",
    "for e in range(n_ensemble):\n",
    "    Y_pred_dim = test_pred[e][:, d_i-1]\n",
    "    Y_dim = Y_test[:, d_i-1]\n",
    "    corr = np.corrcoef(Y_pred_dim,Y_dim).min()\n",
    "\n",
    "    axs[e].scatter(Y_pred_dim, Y_dim)\n",
    "    axs[e].set_ylabel('observed')\n",
    "    axs[e].set_xlabel('predicted')\n",
    "    axs[e].set_title(f'model {e+1}, dim {d_i}\\n$r$={corr: .2f}')\n",
    "\n",
    "fig.tight_layout()"
   ]
  },
  {
   "cell_type": "markdown",
   "metadata": {},
   "source": [
    "#### Check stacked model predictions"
   ]
  },
  {
   "cell_type": "code",
   "execution_count": 330,
   "metadata": {},
   "outputs": [
    {
     "data": {
      "image/png": "[encoded data removed]",
      "text/plain": [
       "<Figure size 720x360 with 2 Axes>"
      ]
     },
     "metadata": {
      "needs_background": "light"
     },
     "output_type": "display_data"
    }
   ],
   "source": [
    "d_i = 2\n",
    "alpha = 0.6161 # 0 we use only model 1, 1 we use only model 2, 0.5 is normal mean\n",
    "\n",
    "\n",
    "fig, axs = plt.subplots(1,2, figsize=(10,5))\n",
    "\n",
    "# mean plot\n",
    "Y_pred_dim = np.mean(test_pred, 0)[:, d_i-1]\n",
    "Y_dim = Y_test[:, d_i-1]\n",
    "corr = np.corrcoef(Y_pred_dim,Y_dim).min()\n",
    "\n",
    "axs[0].scatter(Y_pred_dim, Y_dim)\n",
    "axs[0].set_ylabel('observed')\n",
    "axs[0].set_xlabel('predicted')\n",
    "axs[0].set_title(f'stacked model (mean), dim {d_i}\\n$r$={corr: .2f}')\n",
    "\n",
    "# weighted mean plot\n",
    "Y_pred_dim = (test_pred[0]*(1-alpha) + test_pred[1]*alpha)[:, d_i-1]\n",
    "Y_dim = Y_test[:, d_i-1]\n",
    "corr = np.corrcoef(Y_pred_dim,Y_dim).min()\n",
    "\n",
    "axs[1].scatter(Y_pred_dim, Y_dim)\n",
    "axs[1].set_ylabel('observed')\n",
    "axs[1].set_xlabel('predicted')\n",
    "axs[1].set_title(f'stacked model (weighted mean), dim {d_i},\\nalpha={alpha} $r$={corr: .2f}');\n",
    "\n",
    "fig.tight_layout()"
   ]
  },
  {
   "cell_type": "markdown",
   "metadata": {},
   "source": [
    "#### finding optimal alpha across dimensions ...\n",
    "... using $R²$ score"
   ]
  },
  {
   "cell_type": "code",
   "execution_count": 311,
   "metadata": {},
   "outputs": [
    {
     "data": {
      "image/png": "[encoded data removed]",
      "text/plain": [
       "<Figure size 432x288 with 1 Axes>"
      ]
     },
     "metadata": {
      "needs_background": "light"
     },
     "output_type": "display_data"
    }
   ],
   "source": [
    "alpha_space = np.linspace(0,1,100)\n",
    "scores = []\n",
    "for alpha in alpha_space:\n",
    "    preds_1 = test_pred[0, :, :] * (1-alpha)\n",
    "    preds_2 = test_pred[1, :, :] * (alpha)\n",
    "    Y_pred_dim = test_pred[0]*(1-alpha) + test_pred[1]*alpha\n",
    "    Y_dim = Y_test\n",
    "    score = r2_score(Y_dim, Y_pred_dim)\n",
    "    scores.append([alpha, score])\n",
    "scores = np.array(scores)\n",
    "\n",
    "optimal_alpha, max_score = scores[scores.T[1].argmax()]\n",
    "\n",
    "plt.plot(scores[:, 0], scores[:, 1])\n",
    "plt.axvline(optimal_alpha, c='gray', linestyle=':')\n",
    "plt.axhline(max_score, c='gray', linestyle=':')\n",
    "plt.title(rf'optimal $\\alpha$={optimal_alpha:.4f}, max $R²$={max_score:.2f}');"
   ]
  },
  {
   "cell_type": "markdown",
   "metadata": {},
   "source": [
    "**Is it actually reasonable to give weights to each model only because of 90 data points from the hold-out set? Or is the mean the more realistic assumption (central limit theorem)? How about making 3 models, simply stack them by mean and using the hold-out data for the training too?**"
   ]
  },
  {
   "cell_type": "code",
   "execution_count": 277,
   "metadata": {},
   "outputs": [],
   "source": [
    "# Simplest method: compute mean of all ensemble models\n",
    "#test_prediction = np.mean(test_pred, 0)\n",
    "#rocks_120_prediction = np.mean(rocks_120_pred, 0)\n",
    "\n",
    "# Less simple method: compute weighted mean\n",
    "rocks_120_prediction = (rocks_120_pred[0] * (1-alpha)) + (rocks_120_pred[1] * (alpha))\n",
    "\n",
    "# May best: fitting a linear model?"
   ]
  },
  {
   "cell_type": "markdown",
   "metadata": {},
   "source": [
    "### Get MSE"
   ]
  },
  {
   "cell_type": "code",
   "execution_count": 278,
   "metadata": {},
   "outputs": [],
   "source": [
    "# get labels\n",
    "Y_120 = np.loadtxt(\"../sanders_2018/mds_120.txt\")\n",
    "Y_validate = train.iloc[:, 1:].values\n",
    "Y_test = test.iloc[:, 1:].values"
   ]
  },
  {
   "cell_type": "code",
   "execution_count": 279,
   "metadata": {},
   "outputs": [
    {
     "name": "stdout",
     "output_type": "stream",
     "text": [
      "2.563432885549675\n",
      "5.15055916865052\n"
     ]
    }
   ],
   "source": [
    "print(mean_squared_error(Y_test, test_prediction))\n",
    "print(mean_squared_error(Y_120, rocks_120_prediction))"
   ]
  },
  {
   "cell_type": "markdown",
   "metadata": {},
   "source": [
    "### Get R²"
   ]
  },
  {
   "cell_type": "code",
   "execution_count": 280,
   "metadata": {},
   "outputs": [
    {
     "name": "stdout",
     "output_type": "stream",
     "text": [
      "0.570286529742091\n",
      "-1.3208727376565275\n"
     ]
    }
   ],
   "source": [
    "print(r2_score(Y_test, test_prediction))\n",
    "print(r2_score(Y_120, rocks_120_prediction))"
   ]
  },
  {
   "cell_type": "markdown",
   "metadata": {},
   "source": [
    "### Save predictions to file"
   ]
  },
  {
   "cell_type": "code",
   "execution_count": 17,
   "metadata": {},
   "outputs": [],
   "source": [
    "np.savetxt(\"CNN Predictions/MDS Dimensions/cnn_torch_predicted_mds_120.txt\", rocks_120_prediction)"
   ]
  }
 ],
 "metadata": {
  "kernelspec": {
   "display_name": "Python 3 (ipykernel)",
   "language": "python",
   "name": "python3"
  },
  "language_info": {
   "codemirror_mode": {
    "name": "ipython",
    "version": 3
   },
   "file_extension": ".py",
   "mimetype": "text/x-python",
   "name": "python",
   "nbconvert_exporter": "python",
   "pygments_lexer": "ipython3",
   "version": "3.9.7"
  }
 },
 "nbformat": 4,
 "nbformat_minor": 4
}
