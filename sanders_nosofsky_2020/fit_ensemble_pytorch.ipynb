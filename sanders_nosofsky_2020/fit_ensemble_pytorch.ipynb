{
 "cells": [
  {
   "cell_type": "markdown",
   "metadata": {},
   "source": [
    "Fit CNN in PyTorch\n",
    "===\n"
   ]
  },
  {
   "cell_type": "markdown",
   "metadata": {},
   "source": [
    "## Imports"
   ]
  },
  {
   "cell_type": "code",
   "execution_count": 36,
   "metadata": {
    "collapsed": false,
    "jupyter": {
     "outputs_hidden": false
    }
   },
   "outputs": [],
   "source": [
    "import torch\n",
    "import torch.nn as nn\n",
    "import torch.optim as optim\n",
    "from torch.utils.data import TensorDataset, DataLoader, Dataset\n",
    "import torchvision\n",
    "from torchvision import datasets, models, transforms, utils\n",
    "import numpy as np\n",
    "import pandas as pd\n",
    "import matplotlib.pyplot as plt\n",
    "import time\n",
    "import os\n",
    "import copy\n",
    "from copy import deepcopy\n",
    "from skimage import io, transform\n",
    "from sklearn.model_selection import train_test_split\n",
    "from sklearn.metrics import r2_score\n",
    "import cv2\n",
    "\n",
    "device = 'cuda' if torch.cuda.is_available() else 'cpu'\n",
    "\n",
    "# Number of classes in the dataset\n",
    "num_classes = 8\n",
    "\n",
    "# Batch size for training (change depending on how much memory you have)\n",
    "batch_size_im = 90\n",
    "batch_size_ft = 30\n",
    "\n",
    "# Number of epochs to train for \n",
    "num_epochs_im = 10\n",
    "num_epochs_ft = 10\n",
    "\n",
    "# Flag for feature extracting. When False, we finetune the whole model, \n",
    "#   when True we only update the reshaped layer params\n",
    "feature_extract_im = True\n",
    "feature_extract_ft = False\n",
    "\n",
    "input_size = 224\n",
    "\n",
    "img_dir = \"../finetuning_torchvision_data/360 Rocks\"\n",
    "csv_file = \"../finetuning_torchvision_data/mds_360.csv\""
   ]
  },
  {
   "cell_type": "markdown",
   "metadata": {},
   "source": [
    "## Functions and classes"
   ]
  },
  {
   "cell_type": "code",
   "execution_count": 37,
   "metadata": {
    "collapsed": false,
    "jupyter": {
     "outputs_hidden": false
    }
   },
   "outputs": [],
   "source": [
    "def train_model(model, dataloaders, criterion, optimizer, num_epochs=14, is_inception=False):\n",
    "    \"\"\"\n",
    "    handles the training and validation of a given model. At the end of\n",
    "    training returns the best performing model. After each epoch, the training and validation\n",
    "    accuracies are printed\n",
    "    \"\"\"\n",
    "    \n",
    "    since = time.time()\n",
    "\n",
    "    val_acc_history = []\n",
    "    \n",
    "    best_model_wts = copy.deepcopy(model.state_dict())\n",
    "    best_acc = None\n",
    "\n",
    "    for epoch in range(num_epochs):\n",
    "        print(f'Epoch {epoch + 1}/{num_epochs}')\n",
    "        print('-' * 10)\n",
    "\n",
    "        # Each epoch has a training and validation phase\n",
    "        for phase in ['train', 'val']:\n",
    "            if phase == 'train':\n",
    "                model.train()  # Set model to training mode\n",
    "            else:\n",
    "                model.eval()   # Set model to evaluate mode\n",
    "\n",
    "            running_loss = 0.0\n",
    "            running_r2 = 0.0\n",
    "\n",
    "            # Iterate over data.\n",
    "            for inputs, labels in dataloaders[phase]:\n",
    "                inputs = inputs.to(device)\n",
    "                labels = labels.to(device)\n",
    "\n",
    "                # zero the parameter gradients\n",
    "                optimizer.zero_grad()\n",
    "\n",
    "                # forward\n",
    "                # track history if only in train\n",
    "                with torch.set_grad_enabled(phase == 'train'):\n",
    "                    # Get model outputs and calculate loss\n",
    "                    # Special case for inception because in training it has an auxiliary output. In train\n",
    "                    #   mode we calculate the loss by summing the final output and the auxiliary output\n",
    "                    #   but in testing we only consider the final output.\n",
    "                    if is_inception and phase == 'train':\n",
    "                        # From https://discuss.pytorch.org/t/how-to-optimize-inception-model-with-auxiliary-classifiers/7958\n",
    "                        outputs, aux_outputs = model(inputs)\n",
    "                        score = r2_score(labels.detach().numpy(), outputs.detach().numpy())\n",
    "                        loss1 = criterion(outputs, labels)\n",
    "                        loss2 = criterion(aux_outputs, labels)\n",
    "                        loss = loss1 + 0.4*loss2\n",
    "                    else:\n",
    "                        outputs = model(inputs)\n",
    "                        loss = criterion(outputs, labels)\n",
    "                        global tmp_labels, tmp_outputs\n",
    "                        tmp_labels = labels\n",
    "                        tmp_outputs = outputs\n",
    "                        score = r2_score(labels.detach().numpy(), outputs.detach().numpy())\n",
    "\n",
    "                    # backward + optimize only if in training phase\n",
    "                    if phase == 'train':\n",
    "                        loss.backward()\n",
    "                        optimizer.step()\n",
    "\n",
    "                # statistics # TODO -> check if this is correct (maybe calculate MSE?)\n",
    "                running_loss += loss.item() * inputs.size(0)\n",
    "                running_r2 += score\n",
    "\n",
    "            epoch_loss = running_loss / len(dataloaders[phase].dataset)\n",
    "            epoch_acc = running_r2 / len(dataloaders[phase].dataset)\n",
    "\n",
    "            print(f'{phase} Loss: {epoch_loss: .4f} Acc: {epoch_acc: .4f}')\n",
    "\n",
    "            # deep copy the model\n",
    "            if phase == 'val' and best_acc == None:\n",
    "                best_acc = epoch_acc\n",
    "                best_model_wts = copy.deepcopy(model.state_dict())\n",
    "            if phase == 'val' and best_acc < epoch_acc:\n",
    "                best_acc = epoch_acc\n",
    "                best_model_wts = copy.deepcopy(model.state_dict())\n",
    "            if phase == 'val':\n",
    "                val_acc_history.append(epoch_acc)\n",
    "    \n",
    "    # maybe not necessary, but lets check later if it's a handy feature\n",
    "    \n",
    "   #     # save model after each epoch\n",
    "   #     torch.save({\n",
    "   #         'epoch': epoch,\n",
    "   #         'model_state_dict': model.state_dict(),\n",
    "   #         'optimizer_state_dict': optimizer.state_dict(),\n",
    "   #         'loss': loss,\n",
    "   #         ...\n",
    "   #         }, PATH)\n",
    "    \n",
    "        print() # empty line between epochs\n",
    "\n",
    "    time_elapsed = time.time() - since\n",
    "    print('Training complete in {:.0f}m {:.0f}s'.format(time_elapsed // 60, time_elapsed % 60))\n",
    "    print('Best val Acc: {:4f}'.format(best_acc))\n",
    "\n",
    "    # load best model weights\n",
    "    model.load_state_dict(best_model_wts)\n",
    "    return model, val_acc_history\n",
    "\n",
    "\n",
    "def set_parameter_requires_grad(model, feature_extracting):\n",
    "    \"\"\"\n",
    "    This helper function sets the ``.requires_grad`` attribute of the\n",
    "    parameters in the model to False when we are feature extracting.\n",
    "    \"\"\"\n",
    "    if feature_extracting:\n",
    "        for param in model.parameters():\n",
    "            param.requires_grad = False\n",
    "    else:\n",
    "        for param in model.parameters():\n",
    "            param.requires_grad = True\n",
    "    return None\n",
    "\n",
    "\n",
    "class RocksData(Dataset):\n",
    "    def __init__(self, df, root_dir):\n",
    "        super(RocksData).__init__()\n",
    "        self.df = df\n",
    "        self.normalize = transforms.Normalize(mean=[0.485, 0.456, 0.406],\n",
    "                                              std=[0.229, 0.224, 0.225])\n",
    "        self.root_dir = root_dir\n",
    "    def __len__(self): return len(self.df)\n",
    "    def __getitem__(self, ix):\n",
    "        img_path = self.root_dir + \"/\" + self.df.iloc[ix,0]\n",
    "        img = cv2.imread(img_path)/255.\n",
    "        kp = deepcopy(self.df.iloc[ix,1:].tolist())\n",
    "        kp_x = (np.array(kp[0::2])/img.shape[1]).tolist()\n",
    "        kp_y = (np.array(kp[1::2])/img.shape[0]).tolist()\n",
    "        kp2 = kp_x + kp_y\n",
    "        kp2 = torch.tensor(kp2) \n",
    "        img = self.preprocess_input(img)\n",
    "        return img, kp2\n",
    "    def preprocess_input(self, img):\n",
    "        img = cv2.resize(img, (224,224))\n",
    "        img = torch.tensor(img).permute(2,0,1)\n",
    "        img = self.normalize(img).float()\n",
    "        return img.to(device)\n",
    "    def load_img(self, ix):\n",
    "        img_path = self.root_dir + \"/\" + self.df.iloc[ix,0]        \n",
    "        img = cv2.imread(img_path)\n",
    "        img =cv2.cvtColor(img, cv2.COLOR_BGR2RGB)/255.\n",
    "        img = cv2.resize(img, (224,224))\n",
    "        return img"
   ]
  },
  {
   "cell_type": "raw",
   "metadata": {
    "jupyter": {
     "outputs_hidden": false
    }
   },
   "source": [
    "data_transforms = transforms.Compose([\n",
    "        transforms.ToPILImage(),\n",
    "        transforms.Resize(input_size),\n",
    "        transforms.CenterCrop(input_size),\n",
    "        transforms.ToTensor(),\n",
    "        transforms.Normalize([0.485, 0.456, 0.406], [0.229, 0.224, 0.225])])"
   ]
  },
  {
   "cell_type": "markdown",
   "metadata": {},
   "source": [
    "## Load Data"
   ]
  },
  {
   "cell_type": "code",
   "execution_count": 38,
   "metadata": {},
   "outputs": [],
   "source": [
    "df = pd.read_csv(csv_file)\n",
    "\n",
    "train, test = train_test_split(df, test_size=90, random_state=0)\n",
    "train_dataset = RocksData(train.reset_index(drop=True), img_dir)\n",
    "test_dataset = RocksData(test.reset_index(drop=True), img_dir)\n",
    "train_loader = DataLoader(train_dataset, batch_size=batch_size_im)\n",
    "test_loader = DataLoader(test_dataset, batch_size=batch_size_im)\n",
    "\n",
    "dataloaders_dict = {\"train\":train_loader,\"val\":test_loader}"
   ]
  },
  {
   "cell_type": "markdown",
   "metadata": {},
   "source": [
    "## Create intermediate model"
   ]
  },
  {
   "cell_type": "code",
   "execution_count": 39,
   "metadata": {},
   "outputs": [],
   "source": [
    "# TODO change later from resnet18 to resnet50\n",
    "model_im = models.resnet50(pretrained=True)\n",
    "set_parameter_requires_grad(model_im, feature_extract_im)\n",
    "num_ftrs = model_im.fc.in_features\n",
    "model_im.fc = nn.Linear(num_ftrs, num_classes)"
   ]
  },
  {
   "cell_type": "markdown",
   "metadata": {
    "tags": []
   },
   "source": [
    "### Optimizer"
   ]
  },
  {
   "cell_type": "code",
   "execution_count": 40,
   "metadata": {
    "collapsed": false,
    "jupyter": {
     "outputs_hidden": false
    }
   },
   "outputs": [
    {
     "name": "stdout",
     "output_type": "stream",
     "text": [
      "Params to learn:\n",
      "\t fc.weight\n",
      "\t fc.bias\n"
     ]
    }
   ],
   "source": [
    "loglr = -2.2200654426745987\n",
    "lr_im = 10 ** loglr\n",
    "\n",
    "# Send the model to GPU\n",
    "model_im = model_im.to(device)\n",
    "\n",
    "# Gather the parameters to be optimized/updated in this run. If we are\n",
    "#  finetuning we will be updating all parameters. However, if we are \n",
    "#  doing feature extract method, we will only update the parameters\n",
    "#  that we have just initialized, i.e. the parameters with requires_grad\n",
    "#  is True.\n",
    "params_to_update_im = model_im.parameters()\n",
    "print(\"Params to learn:\")\n",
    "if feature_extract_im:\n",
    "    params_to_update_im = []\n",
    "    for name,param in model_im.named_parameters():\n",
    "        if param.requires_grad == True:\n",
    "            params_to_update_im.append(param)\n",
    "            print(\"\\t\",name)\n",
    "else:\n",
    "    for name,param in model_im.named_parameters():\n",
    "        if param.requires_grad == True:\n",
    "            print(\"\\t\",name)\n",
    "\n",
    "# Observe that all parameters are being optimized\n",
    "optimizer_im = optim.Adam(params_to_update_im, lr = lr_im) # for the intermediate model"
   ]
  },
  {
   "cell_type": "markdown",
   "metadata": {},
   "source": [
    "### Run Training and Validation Step\n",
    "\n",
    "**Intermediate model**"
   ]
  },
  {
   "cell_type": "code",
   "execution_count": 41,
   "metadata": {
    "collapsed": false,
    "jupyter": {
     "outputs_hidden": false
    }
   },
   "outputs": [
    {
     "name": "stdout",
     "output_type": "stream",
     "text": [
      "Epoch 1/10\n",
      "----------\n",
      "train Loss:  10.0941 Acc: -12277.0023\n",
      "val Loss:  6.1467 Acc: -7125.0966\n",
      "\n",
      "Epoch 2/10\n",
      "----------\n",
      "train Loss:  11.7208 Acc: -13680.0149\n",
      "val Loss:  2.5017 Acc: -2973.2714\n",
      "\n",
      "Epoch 3/10\n",
      "----------\n",
      "train Loss:  2.5713 Acc: -2885.9245\n",
      "val Loss:  7.6893 Acc: -9090.7989\n",
      "\n",
      "Epoch 4/10\n",
      "----------\n",
      "train Loss:  5.9648 Acc: -7051.7423\n",
      "val Loss:  0.1820 Acc: -207.3851\n",
      "\n",
      "Epoch 5/10\n",
      "----------\n",
      "train Loss:  1.6447 Acc: -1829.0315\n",
      "val Loss:  4.4756 Acc: -5251.6966\n",
      "\n",
      "Epoch 6/10\n",
      "----------\n",
      "train Loss:  2.8071 Acc: -3333.5759\n",
      "val Loss:  0.1290 Acc: -150.2559\n",
      "\n",
      "Epoch 7/10\n",
      "----------\n",
      "train Loss:  1.1179 Acc: -1254.0694\n",
      "val Loss:  2.3464 Acc: -2783.8831\n",
      "\n",
      "Epoch 8/10\n",
      "----------\n",
      "train Loss:  1.3437 Acc: -1599.1125\n",
      "val Loss:  0.1967 Acc: -231.9169\n",
      "\n",
      "Epoch 9/10\n",
      "----------\n",
      "train Loss:  0.7838 Acc: -888.6938\n",
      "val Loss:  1.1737 Acc: -1363.7405\n",
      "\n",
      "Epoch 10/10\n",
      "----------\n",
      "train Loss:  0.5998 Acc: -712.7728\n",
      "val Loss:  0.2586 Acc: -323.1091\n",
      "\n",
      "Training complete in 6m 35s\n",
      "Best val Acc: -150.255894\n"
     ]
    }
   ],
   "source": [
    "# Setup the loss fxn\n",
    "\n",
    "loss_name = \"L2\"\n",
    "\n",
    "if loss_name == \"L1\":\n",
    "    criterion = torch.nn.L1Loss()\n",
    "elif loss_name == \"L2\":\n",
    "    criterion = torch.nn.MSELoss()\n",
    "elif loss_name == \"smooth_L1\":\n",
    "    criterion = torch.nn.SmoothL1Loss()\n",
    "elif loss_name == \"huber\":\n",
    "    criterion = torch.nn.HuberLoss()\n",
    "\n",
    "# Train and evaluate\n",
    "model_ft, hist = train_model(model_im, dataloaders_dict, criterion, optimizer_im, num_epochs = num_epochs_im)"
   ]
  },
  {
   "cell_type": "code",
   "execution_count": 42,
   "metadata": {},
   "outputs": [
    {
     "data": {
      "text/plain": [
       "[<matplotlib.lines.Line2D at 0x7f6066e5c250>]"
      ]
     },
     "execution_count": 42,
     "metadata": {},
     "output_type": "execute_result"
    },
    {
     "data": {
      "image/png": "[encoded data removed]",
      "text/plain": [
       "<Figure size 432x288 with 1 Axes>"
      ]
     },
     "metadata": {
      "needs_background": "light"
     },
     "output_type": "display_data"
    }
   ],
   "source": [
    "plt.plot(hist)"
   ]
  },
  {
   "cell_type": "markdown",
   "metadata": {},
   "source": [
    "## Create finetuned model\n",
    "\n",
    "### Set all parameters to trainable"
   ]
  },
  {
   "cell_type": "code",
   "execution_count": 30,
   "metadata": {},
   "outputs": [],
   "source": [
    "set_parameter_requires_grad(model_ft, feature_extract_ft)"
   ]
  },
  {
   "cell_type": "markdown",
   "metadata": {},
   "source": [
    "### different batch size"
   ]
  },
  {
   "cell_type": "code",
   "execution_count": 31,
   "metadata": {},
   "outputs": [],
   "source": [
    "train_loader = DataLoader(train_dataset, batch_size=batch_size_ft)\n",
    "test_loader = DataLoader(test_dataset, batch_size=batch_size_ft)\n",
    "\n",
    "dataloaders_dict = {\"train\":train_loader,\"val\":test_loader}"
   ]
  },
  {
   "cell_type": "markdown",
   "metadata": {},
   "source": [
    "### Optimizer"
   ]
  },
  {
   "cell_type": "code",
   "execution_count": null,
   "metadata": {
    "collapsed": false,
    "jupyter": {
     "outputs_hidden": false
    }
   },
   "outputs": [],
   "source": [
    "lr_ft = 0.0001\n",
    "\n",
    "# Send the model to GPU\n",
    "model_ft = model_ft.to(device)\n",
    "\n",
    "# Gather the parameters to be optimized/updated in this run. If we are\n",
    "#  finetuning we will be updating all parameters. However, if we are \n",
    "#  doing feature extract method, we will only update the parameters\n",
    "#  that we have just initialized, i.e. the parameters with requires_grad\n",
    "#  is True.\n",
    "params_to_update_ft = model_ft.parameters()\n",
    "print(\"Params to learn:\")\n",
    "if feature_extract_ft:\n",
    "    params_to_update_ft = []\n",
    "    for name,param in model_ft.named_parameters():\n",
    "        if param.requires_grad == True:\n",
    "            params_to_update_ft.append(param)\n",
    "            print(\"\\t\",name)\n",
    "else:\n",
    "    for name,param in model_ft.named_parameters():\n",
    "        if param.requires_grad == True:\n",
    "            print(\"\\t\",name)\n",
    "\n",
    "# Observe that all parameters are being optimized\n",
    "optimizer_ft = optim.SGD(params_to_update_ft, lr = lr_ft, momentum = 0.9) # for the finetuning"
   ]
  },
  {
   "cell_type": "markdown",
   "metadata": {},
   "source": [
    "### Run Training and Validation Step\n",
    "\n",
    "**Finetuned model**"
   ]
  },
  {
   "cell_type": "code",
   "execution_count": null,
   "metadata": {
    "collapsed": false,
    "jupyter": {
     "outputs_hidden": false
    }
   },
   "outputs": [],
   "source": [
    "# Setup the loss fxn\n",
    "\n",
    "loss_name = \"L2\"\n",
    "\n",
    "if loss_name == \"L1\":\n",
    "    criterion = torch.nn.L1Loss()\n",
    "elif loss_name == \"L2\":\n",
    "    criterion = torch.nn.MSELoss()\n",
    "elif loss_name == \"smooth_L1\":\n",
    "    criterion = torch.nn.SmoothL1Loss()\n",
    "elif loss_name == \"huber\":\n",
    "    criterion = torch.nn.HuberLoss()\n",
    "\n",
    "# Train and evaluate\n",
    "model_ft, hist = train_model(model_ft, dataloaders_dict, criterion, optimizer_ft, num_epochs = num_epochs_ft)"
   ]
  },
  {
   "cell_type": "code",
   "execution_count": null,
   "metadata": {},
   "outputs": [],
   "source": [
    "plt.plot(hist)"
   ]
  },
  {
   "cell_type": "markdown",
   "metadata": {},
   "source": [
    "## Save model"
   ]
  },
  {
   "cell_type": "code",
   "execution_count": 19,
   "metadata": {},
   "outputs": [],
   "source": [
    "PATH = \"CNN_checkpoints/state_dict_model_ft.pt\"\n",
    "torch.save(model_ft.state_dict(), PATH)"
   ]
  },
  {
   "cell_type": "markdown",
   "metadata": {},
   "source": [
    "## Load model"
   ]
  },
  {
   "cell_type": "code",
   "execution_count": null,
   "metadata": {},
   "outputs": [],
   "source": [
    "model_ft = models.resnet18()\n",
    "set_parameter_requires_grad(model_ft, feature_extract_ft)\n",
    "num_ftrs = model_ft.fc.in_features\n",
    "model_ft.fc = nn.Linear(num_ftrs, num_classes)\n",
    "\n",
    "model_ft.load_state_dict(torch.load(PATH))\n",
    "\n",
    "model_ft.eval()"
   ]
  }
 ],
 "metadata": {
  "kernelspec": {
   "display_name": "Python 3 (ipykernel)",
   "language": "python",
   "name": "python3"
  },
  "language_info": {
   "codemirror_mode": {
    "name": "ipython",
    "version": 3
   },
   "file_extension": ".py",
   "mimetype": "text/x-python",
   "name": "python",
   "nbconvert_exporter": "python",
   "pygments_lexer": "ipython3",
   "version": "3.9.7"
  }
 },
 "nbformat": 4,
 "nbformat_minor": 4
}
